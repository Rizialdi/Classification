{
 "metadata": {
  "language_info": {
   "codemirror_mode": {
    "name": "ipython",
    "version": 3
   },
   "file_extension": ".py",
   "mimetype": "text/x-python",
   "name": "python",
   "nbconvert_exporter": "python",
   "pygments_lexer": "ipython3",
   "version": "3.8.5-final"
  },
  "orig_nbformat": 2,
  "kernelspec": {
   "name": "Python 3.8.5 64-bit",
   "display_name": "Python 3.8.5 64-bit",
   "metadata": {
    "interpreter": {
     "hash": "31f2aee4e71d21fbe5cf8b01ff0e069b9275f58929596ceb00d14d90e3e16cd6"
    }
   }
  }
 },
 "nbformat": 4,
 "nbformat_minor": 2,
 "cells": [
  {
   "cell_type": "code",
   "execution_count": 12,
   "metadata": {},
   "outputs": [],
   "source": [
    "PATH = '../input/cassava-leaf-disease-classification'"
   ]
  },
  {
   "cell_type": "code",
   "execution_count": 13,
   "metadata": {},
   "outputs": [],
   "source": [
    "import os\n",
    "import pandas as pd\n",
    "import matplotlib.pyplot as plt\n",
    "from sklearn import model_selection\n",
    "import matplotlib.image as mpimg"
   ]
  },
  {
   "cell_type": "code",
   "execution_count": 14,
   "metadata": {},
   "outputs": [
    {
     "output_type": "execute_result",
     "data": {
      "text/plain": [
       "         image_id  label\n",
       "0  1000015157.jpg      0\n",
       "1  1000201771.jpg      3"
      ],
      "text/html": "<div>\n<style scoped>\n    .dataframe tbody tr th:only-of-type {\n        vertical-align: middle;\n    }\n\n    .dataframe tbody tr th {\n        vertical-align: top;\n    }\n\n    .dataframe thead th {\n        text-align: right;\n    }\n</style>\n<table border=\"1\" class=\"dataframe\">\n  <thead>\n    <tr style=\"text-align: right;\">\n      <th></th>\n      <th>image_id</th>\n      <th>label</th>\n    </tr>\n  </thead>\n  <tbody>\n    <tr>\n      <th>0</th>\n      <td>1000015157.jpg</td>\n      <td>0</td>\n    </tr>\n    <tr>\n      <th>1</th>\n      <td>1000201771.jpg</td>\n      <td>3</td>\n    </tr>\n  </tbody>\n</table>\n</div>"
     },
     "metadata": {},
     "execution_count": 14
    }
   ],
   "source": [
    "train_set = pd.read_csv(f'{PATH}/train.csv')\n",
    "train_set = pd.read_csv(f'{PATH}/train.csv')\n",
    "\n",
    "train_set.head(2)"
   ]
  },
  {
   "cell_type": "code",
   "execution_count": null,
   "metadata": {},
   "outputs": [],
   "source": [
    "json_mapping = {\"0\": \"Cassava Bacterial Blight (CBB)\", \"1\": \"Cassava Brown Streak Disease (CBSD)\", \"2\": \"Cassava Green Mottle (CGM)\", \"3\": \"Cassava Mosaic Disease (CMD)\", \"4\": \"Healthy\"}\n"
   ]
  },
  {
   "cell_type": "code",
   "execution_count": null,
   "metadata": {},
   "outputs": [],
   "source": [
    "images_array = [x for x in os.listdir(f'{PATH}/train_images')]\n",
    "\n",
    "def imshow(position: int):\n",
    "    image_id, category = train_set.iloc[position]\n",
    "    label = json_mapping.get(f\"{category}\")\n",
    "    image_path = f'{PATH}/train_images/{image_id}'\n",
    "    img = mpimg.imread(image_path)\n",
    "    plt.xlabel(label)\n",
    "    plt.imshow(img)\n",
    "\n",
    "imshow(1)"
   ]
  },
  {
   "cell_type": "code",
   "execution_count": 16,
   "metadata": {},
   "outputs": [
    {
     "output_type": "execute_result",
     "data": {
      "text/plain": [
       "3    13158\n",
       "4     2577\n",
       "2     2386\n",
       "1     2189\n",
       "0     1087\n",
       "Name: label, dtype: int64"
      ]
     },
     "metadata": {},
     "execution_count": 16
    }
   ],
   "source": [
    "# the dataset is skewed towards label 3\n",
    "train_set.label.value_counts()"
   ]
  },
  {
   "cell_type": "code",
   "execution_count": 17,
   "metadata": {},
   "outputs": [],
   "source": [
    "kFold = model_selection.StratifiedKFold(n_splits=5)\n",
    "\n",
    "for f, (t_, v_) in enumerate(kFold.split(X=train_set, y=train_set.label)):\n",
    "    train_set.loc[v_, 'kFold'] = f\n",
    "train_set.reset_index(drop=True, inplace=True)"
   ]
  },
  {
   "cell_type": "code",
   "execution_count": 18,
   "metadata": {},
   "outputs": [
    {
     "output_type": "stream",
     "name": "stdout",
     "text": [
      "exploration.ipynb\n"
     ]
    }
   ],
   "source": [
    "!ls"
   ]
  },
  {
   "cell_type": "code",
   "execution_count": 19,
   "metadata": {},
   "outputs": [
    {
     "output_type": "stream",
     "name": "stdout",
     "text": [
      "Index(['image_id', 'label', 'path'], dtype='object')\n"
     ]
    },
    {
     "output_type": "execute_result",
     "data": {
      "text/plain": [
       "   label                                               path\n",
       "0      0  ../input/cassava-leaf-disease-classification/'...\n",
       "1      3  ../input/cassava-leaf-disease-classification/'...\n",
       "2      3  ../input/cassava-leaf-disease-classification/'...\n",
       "3      3  ../input/cassava-leaf-disease-classification/'...\n",
       "4      3  ../input/cassava-leaf-disease-classification/'..."
      ],
      "text/html": "<div>\n<style scoped>\n    .dataframe tbody tr th:only-of-type {\n        vertical-align: middle;\n    }\n\n    .dataframe tbody tr th {\n        vertical-align: top;\n    }\n\n    .dataframe thead th {\n        text-align: right;\n    }\n</style>\n<table border=\"1\" class=\"dataframe\">\n  <thead>\n    <tr style=\"text-align: right;\">\n      <th></th>\n      <th>label</th>\n      <th>path</th>\n    </tr>\n  </thead>\n  <tbody>\n    <tr>\n      <th>0</th>\n      <td>0</td>\n      <td>../input/cassava-leaf-disease-classification/'...</td>\n    </tr>\n    <tr>\n      <th>1</th>\n      <td>3</td>\n      <td>../input/cassava-leaf-disease-classification/'...</td>\n    </tr>\n    <tr>\n      <th>2</th>\n      <td>3</td>\n      <td>../input/cassava-leaf-disease-classification/'...</td>\n    </tr>\n    <tr>\n      <th>3</th>\n      <td>3</td>\n      <td>../input/cassava-leaf-disease-classification/'...</td>\n    </tr>\n    <tr>\n      <th>4</th>\n      <td>3</td>\n      <td>../input/cassava-leaf-disease-classification/'...</td>\n    </tr>\n  </tbody>\n</table>\n</div>"
     },
     "metadata": {},
     "execution_count": 19
    }
   ],
   "source": [
    "train_csv = pd.read_csv(f\"{PATH}/train.csv\")\n",
    "        # adding a column for image location\n",
    "train_csv['path'] = train_csv['image_id'].map(\n",
    "            lambda x: f\"{PATH}/'train_images/{x}\")\n",
    "        # shuffling and reset index\n",
    "print(train_csv.columns)\n",
    "train_csv.drop('image_id', axis=1,inplace=True)\n",
    "train_csv = train_csv.sample(frac=1).reset_index(drop=True)\n",
    "train_csv.head()"
   ]
  },
  {
   "cell_type": "code",
   "execution_count": 26,
   "metadata": {},
   "outputs": [],
   "source": [
    "kFold = model_selection.StratifiedKFold(n_splits=5)\n",
    "\n",
    "for f, (t_, v_) in enumerate(kFold.split(X=train_csv, y=train_csv.label)):\n",
    "    train_csv.loc[v_, 'kFold'] = f"
   ]
  },
  {
   "cell_type": "code",
   "execution_count": 43,
   "metadata": {},
   "outputs": [
    {
     "output_type": "execute_result",
     "data": {
      "text/plain": [
       "       label                                               path  kFold\n",
       "0          2  ../input/cassava-leaf-disease-classification/'...    0.0\n",
       "1          3  ../input/cassava-leaf-disease-classification/'...    1.0\n",
       "2          4  ../input/cassava-leaf-disease-classification/'...    0.0\n",
       "3          4  ../input/cassava-leaf-disease-classification/'...    2.0\n",
       "4          3  ../input/cassava-leaf-disease-classification/'...    4.0\n",
       "...      ...                                                ...    ...\n",
       "17113      4  ../input/cassava-leaf-disease-classification/'...    4.0\n",
       "17114      0  ../input/cassava-leaf-disease-classification/'...    4.0\n",
       "17115      1  ../input/cassava-leaf-disease-classification/'...    2.0\n",
       "17116      3  ../input/cassava-leaf-disease-classification/'...    1.0\n",
       "17117      1  ../input/cassava-leaf-disease-classification/'...    2.0\n",
       "\n",
       "[17118 rows x 3 columns]"
      ],
      "text/html": "<div>\n<style scoped>\n    .dataframe tbody tr th:only-of-type {\n        vertical-align: middle;\n    }\n\n    .dataframe tbody tr th {\n        vertical-align: top;\n    }\n\n    .dataframe thead th {\n        text-align: right;\n    }\n</style>\n<table border=\"1\" class=\"dataframe\">\n  <thead>\n    <tr style=\"text-align: right;\">\n      <th></th>\n      <th>label</th>\n      <th>path</th>\n      <th>kFold</th>\n    </tr>\n  </thead>\n  <tbody>\n    <tr>\n      <th>0</th>\n      <td>2</td>\n      <td>../input/cassava-leaf-disease-classification/'...</td>\n      <td>0.0</td>\n    </tr>\n    <tr>\n      <th>1</th>\n      <td>3</td>\n      <td>../input/cassava-leaf-disease-classification/'...</td>\n      <td>1.0</td>\n    </tr>\n    <tr>\n      <th>2</th>\n      <td>4</td>\n      <td>../input/cassava-leaf-disease-classification/'...</td>\n      <td>0.0</td>\n    </tr>\n    <tr>\n      <th>3</th>\n      <td>4</td>\n      <td>../input/cassava-leaf-disease-classification/'...</td>\n      <td>2.0</td>\n    </tr>\n    <tr>\n      <th>4</th>\n      <td>3</td>\n      <td>../input/cassava-leaf-disease-classification/'...</td>\n      <td>4.0</td>\n    </tr>\n    <tr>\n      <th>...</th>\n      <td>...</td>\n      <td>...</td>\n      <td>...</td>\n    </tr>\n    <tr>\n      <th>17113</th>\n      <td>4</td>\n      <td>../input/cassava-leaf-disease-classification/'...</td>\n      <td>4.0</td>\n    </tr>\n    <tr>\n      <th>17114</th>\n      <td>0</td>\n      <td>../input/cassava-leaf-disease-classification/'...</td>\n      <td>4.0</td>\n    </tr>\n    <tr>\n      <th>17115</th>\n      <td>1</td>\n      <td>../input/cassava-leaf-disease-classification/'...</td>\n      <td>2.0</td>\n    </tr>\n    <tr>\n      <th>17116</th>\n      <td>3</td>\n      <td>../input/cassava-leaf-disease-classification/'...</td>\n      <td>1.0</td>\n    </tr>\n    <tr>\n      <th>17117</th>\n      <td>1</td>\n      <td>../input/cassava-leaf-disease-classification/'...</td>\n      <td>2.0</td>\n    </tr>\n  </tbody>\n</table>\n<p>17118 rows × 3 columns</p>\n</div>"
     },
     "metadata": {},
     "execution_count": 43
    }
   ],
   "source": [
    "df1, df2 = [x for _, x in train_csv.groupby(train_csv['kFold'] == 3)]\n",
    "\n",
    "df1.sample(frac=1).reset_index(drop=True)"
   ]
  },
  {
   "cell_type": "code",
   "execution_count": 67,
   "metadata": {},
   "outputs": [
    {
     "output_type": "stream",
     "name": "stdout",
     "text": [
      "2 tensor([[[110, 121,  81],\n         [ 98, 111,  68],\n         [100, 113,  67],\n         ...,\n         [ 68,  54,  67],\n         [ 67,  55,  65],\n         [ 61,  49,  59]],\n\n        [[122, 138,  91],\n         [134, 150, 101],\n         [156, 175, 120],\n         ...,\n         [ 68,  55,  65],\n         [ 67,  54,  63],\n         [ 62,  49,  58]],\n\n        [[166, 192, 127],\n         [169, 195, 130],\n         [168, 195, 126],\n         ...,\n         [ 70,  53,  61],\n         [ 69,  52,  58],\n         [ 64,  49,  52]],\n\n        ...,\n\n        [[ 99,  75, 101],\n         [ 99,  75, 101],\n         [ 98,  74, 100],\n         ...,\n         [ 79,  62,  81],\n         [ 82,  64,  90],\n         [ 84,  65,  93]],\n\n        [[ 97,  72, 101],\n         [ 99,  74, 103],\n         [ 99,  74, 103],\n         ...,\n         [ 75,  57,  79],\n         [ 75,  56,  84],\n         [ 76,  57,  87]],\n\n        [[ 99,  74, 103],\n         [101,  76, 105],\n         [101,  76, 105],\n         ...,\n         [ 66,  48,  70],\n         [ 65,  46,  74],\n         [ 65,  46,  76]]], dtype=torch.uint8)\n"
     ]
    }
   ],
   "source": [
    "from PIL import Image\n",
    "from PIL import ImageFile\n",
    "import numpy as np\n",
    "import torch\n",
    "\n",
    "image_path = df1.loc[5]['path']\n",
    "img = \"../input/cassava-leaf-disease-classification/train_images/6103.jpg\"\n",
    "\n",
    "image = Image.open(img) \n",
    "image = np.array(image) \n",
    "image = torch.tensor(image)\n",
    "print(2, image)"
   ]
  },
  {
   "cell_type": "code",
   "execution_count": 54,
   "metadata": {},
   "outputs": [
    {
     "output_type": "stream",
     "name": "stdout",
     "text": [
      "ls: impossible d'accéder à \"../input/cassava-leaf-disease-classification/'train_images\": Aucun fichier ou dossier de ce type\n"
     ]
    }
   ],
   "source": [
    "!ls \"../input/cassava-leaf-disease-classification/'train_images\""
   ]
  },
  {
   "cell_type": "code",
   "execution_count": 63,
   "metadata": {},
   "outputs": [
    {
     "output_type": "stream",
     "name": "stdout",
     "text": [
      "Collecting torch\n",
      "  Using cached torch-1.7.0-cp38-cp38-manylinux1_x86_64.whl (776.8 MB)\n",
      "Collecting typing-extensions\n",
      "  Using cached typing_extensions-3.7.4.3-py3-none-any.whl (22 kB)\n",
      "Requirement already satisfied: future in /usr/lib/python3/dist-packages (from torch) (0.18.2)\n",
      "Requirement already satisfied: numpy in /home/rizialdi/.local/lib/python3.8/site-packages (from torch) (1.19.4)\n",
      "Collecting dataclasses\n",
      "  Using cached dataclasses-0.6-py3-none-any.whl (14 kB)\n",
      "Installing collected packages: typing-extensions, dataclasses, torch\n",
      "Successfully installed dataclasses-0.6 torch-1.7.0 typing-extensions-3.7.4.3\n"
     ]
    }
   ],
   "source": [
    "!pip3 install torch"
   ]
  },
  {
   "cell_type": "code",
   "execution_count": 19,
   "metadata": {},
   "outputs": [
    {
     "output_type": "execute_result",
     "data": {
      "text/plain": [
       "3"
      ]
     },
     "metadata": {},
     "execution_count": 19
    }
   ],
   "source": [
    "y = train_set['label']\n",
    "y[4]"
   ]
  },
  {
   "cell_type": "code",
   "execution_count": null,
   "metadata": {},
   "outputs": [],
   "source": []
  },
  {
   "cell_type": "code",
   "execution_count": null,
   "metadata": {},
   "outputs": [],
   "source": []
  },
  {
   "cell_type": "code",
   "execution_count": null,
   "metadata": {},
   "outputs": [],
   "source": []
  },
  {
   "cell_type": "code",
   "execution_count": null,
   "metadata": {},
   "outputs": [],
   "source": []
  },
  {
   "cell_type": "code",
   "execution_count": null,
   "metadata": {},
   "outputs": [],
   "source": []
  },
  {
   "cell_type": "code",
   "execution_count": null,
   "metadata": {},
   "outputs": [],
   "source": []
  },
  {
   "cell_type": "code",
   "execution_count": null,
   "metadata": {},
   "outputs": [],
   "source": []
  },
  {
   "cell_type": "code",
   "execution_count": null,
   "metadata": {},
   "outputs": [],
   "source": []
  },
  {
   "cell_type": "code",
   "execution_count": null,
   "metadata": {},
   "outputs": [],
   "source": []
  },
  {
   "cell_type": "code",
   "execution_count": null,
   "metadata": {},
   "outputs": [],
   "source": []
  },
  {
   "cell_type": "code",
   "execution_count": null,
   "metadata": {},
   "outputs": [],
   "source": []
  },
  {
   "cell_type": "code",
   "execution_count": null,
   "metadata": {},
   "outputs": [],
   "source": []
  },
  {
   "cell_type": "code",
   "execution_count": null,
   "metadata": {},
   "outputs": [],
   "source": []
  },
  {
   "cell_type": "code",
   "execution_count": null,
   "metadata": {},
   "outputs": [],
   "source": []
  },
  {
   "cell_type": "code",
   "execution_count": null,
   "metadata": {},
   "outputs": [],
   "source": []
  },
  {
   "cell_type": "code",
   "execution_count": null,
   "metadata": {},
   "outputs": [],
   "source": []
  },
  {
   "cell_type": "code",
   "execution_count": null,
   "metadata": {},
   "outputs": [],
   "source": []
  },
  {
   "cell_type": "code",
   "execution_count": null,
   "metadata": {},
   "outputs": [],
   "source": []
  },
  {
   "cell_type": "code",
   "execution_count": null,
   "metadata": {},
   "outputs": [],
   "source": []
  },
  {
   "cell_type": "code",
   "execution_count": null,
   "metadata": {},
   "outputs": [],
   "source": []
  },
  {
   "cell_type": "code",
   "execution_count": null,
   "metadata": {},
   "outputs": [],
   "source": []
  },
  {
   "cell_type": "code",
   "execution_count": null,
   "metadata": {},
   "outputs": [],
   "source": []
  },
  {
   "cell_type": "code",
   "execution_count": null,
   "metadata": {},
   "outputs": [],
   "source": []
  },
  {
   "cell_type": "code",
   "execution_count": null,
   "metadata": {},
   "outputs": [],
   "source": []
  },
  {
   "cell_type": "code",
   "execution_count": null,
   "metadata": {},
   "outputs": [],
   "source": []
  },
  {
   "cell_type": "code",
   "execution_count": null,
   "metadata": {},
   "outputs": [],
   "source": []
  },
  {
   "cell_type": "code",
   "execution_count": null,
   "metadata": {},
   "outputs": [],
   "source": []
  },
  {
   "cell_type": "code",
   "execution_count": null,
   "metadata": {},
   "outputs": [],
   "source": []
  },
  {
   "cell_type": "code",
   "execution_count": null,
   "metadata": {},
   "outputs": [],
   "source": []
  },
  {
   "cell_type": "code",
   "execution_count": null,
   "metadata": {},
   "outputs": [],
   "source": []
  },
  {
   "cell_type": "code",
   "execution_count": null,
   "metadata": {},
   "outputs": [],
   "source": []
  },
  {
   "cell_type": "code",
   "execution_count": null,
   "metadata": {},
   "outputs": [],
   "source": []
  },
  {
   "cell_type": "code",
   "execution_count": null,
   "metadata": {},
   "outputs": [],
   "source": []
  },
  {
   "cell_type": "code",
   "execution_count": null,
   "metadata": {},
   "outputs": [],
   "source": []
  },
  {
   "cell_type": "code",
   "execution_count": null,
   "metadata": {},
   "outputs": [],
   "source": []
  },
  {
   "cell_type": "code",
   "execution_count": null,
   "metadata": {},
   "outputs": [],
   "source": []
  },
  {
   "cell_type": "code",
   "execution_count": null,
   "metadata": {},
   "outputs": [],
   "source": []
  },
  {
   "cell_type": "code",
   "execution_count": null,
   "metadata": {},
   "outputs": [],
   "source": []
  },
  {
   "cell_type": "code",
   "execution_count": null,
   "metadata": {},
   "outputs": [],
   "source": []
  },
  {
   "cell_type": "code",
   "execution_count": null,
   "metadata": {},
   "outputs": [],
   "source": []
  }
 ]
}