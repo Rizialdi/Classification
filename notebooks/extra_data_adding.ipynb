{
 "metadata": {
  "language_info": {
   "codemirror_mode": {
    "name": "ipython",
    "version": 3
   },
   "file_extension": ".py",
   "mimetype": "text/x-python",
   "name": "python",
   "nbconvert_exporter": "python",
   "pygments_lexer": "ipython3",
   "version": "3.8.5-final"
  },
  "orig_nbformat": 2,
  "kernelspec": {
   "name": "Python 3.8.5 64-bit ('cassava_land': conda)",
   "display_name": "Python 3.8.5 64-bit ('cassava_land': conda)",
   "metadata": {
    "interpreter": {
     "hash": "ec5c3b531bdf554e480f47ab6b6a38d420649e4901d7471ed06eb14f10614db1"
    }
   }
  }
 },
 "nbformat": 4,
 "nbformat_minor": 2,
 "cells": [
  {
   "cell_type": "code",
   "execution_count": 35,
   "metadata": {},
   "outputs": [],
   "source": [
    "import pandas as pd\n",
    "import numpy as np\n",
    "import os"
   ]
  },
  {
   "cell_type": "code",
   "execution_count": 9,
   "metadata": {},
   "outputs": [
    {
     "output_type": "stream",
     "name": "stdout",
     "text": [
      "cassava-disease  cassava-leaf-disease-classification\n"
     ]
    }
   ],
   "source": [
    "!ls '../input/'"
   ]
  },
  {
   "cell_type": "code",
   "execution_count": 12,
   "metadata": {},
   "outputs": [
    {
     "output_type": "execute_result",
     "data": {
      "text/plain": [
       "['cbb', 'cmd', 'cbsd', 'cgm', 'healthy']"
      ]
     },
     "metadata": {},
     "execution_count": 12
    }
   ],
   "source": [
    "extra_data_folder = 'cassava-disease'\n",
    "comp_data_folder = 'cassava-leaf-disease-classification'\n",
    "\n",
    "extra_data_path = f\"../input/{extra_data_folder}/train\"\n",
    "\n",
    "os.listdir(extra_data_path)"
   ]
  },
  {
   "cell_type": "code",
   "execution_count": 18,
   "metadata": {},
   "outputs": [
    {
     "output_type": "execute_result",
     "data": {
      "text/plain": [
       "3"
      ]
     },
     "metadata": {},
     "execution_count": 18
    }
   ],
   "source": [
    "folder_to_label_mapper = {\"cbb\": 0, 'cbsd': 1, 'cgm': 2, 'cmd': 3, 'healthy': 4 }\n",
    "\n",
    "folder_to_label_mapper[\"cmd\"]\n"
   ]
  },
  {
   "cell_type": "code",
   "execution_count": 51,
   "metadata": {
    "tags": []
   },
   "outputs": [],
   "source": [
    "paths = []\n",
    "labels = []\n",
    "for label in os.listdir(extra_data_path):\n",
    "    pths = [f'{extra_data_path}/{x}' for x in os.listdir(f\"{extra_data_path}/{label}\")]\n",
    "    labels += [folder_to_label_mapper[label]]*len(pths)\n",
    "    paths += pths"
   ]
  },
  {
   "cell_type": "code",
   "execution_count": 52,
   "metadata": {},
   "outputs": [
    {
     "output_type": "execute_result",
     "data": {
      "text/plain": [
       "   label                                              path\n",
       "0      0  ../input/cassava-disease/train/train-cbb-187.jpg\n",
       "1      0  ../input/cassava-disease/train/train-cbb-362.jpg\n",
       "2      0  ../input/cassava-disease/train/train-cbb-208.jpg\n",
       "3      0  ../input/cassava-disease/train/train-cbb-219.jpg\n",
       "4      0  ../input/cassava-disease/train/train-cbb-381.jpg"
      ],
      "text/html": "<div>\n<style scoped>\n    .dataframe tbody tr th:only-of-type {\n        vertical-align: middle;\n    }\n\n    .dataframe tbody tr th {\n        vertical-align: top;\n    }\n\n    .dataframe thead th {\n        text-align: right;\n    }\n</style>\n<table border=\"1\" class=\"dataframe\">\n  <thead>\n    <tr style=\"text-align: right;\">\n      <th></th>\n      <th>label</th>\n      <th>path</th>\n    </tr>\n  </thead>\n  <tbody>\n    <tr>\n      <th>0</th>\n      <td>0</td>\n      <td>../input/cassava-disease/train/train-cbb-187.jpg</td>\n    </tr>\n    <tr>\n      <th>1</th>\n      <td>0</td>\n      <td>../input/cassava-disease/train/train-cbb-362.jpg</td>\n    </tr>\n    <tr>\n      <th>2</th>\n      <td>0</td>\n      <td>../input/cassava-disease/train/train-cbb-208.jpg</td>\n    </tr>\n    <tr>\n      <th>3</th>\n      <td>0</td>\n      <td>../input/cassava-disease/train/train-cbb-219.jpg</td>\n    </tr>\n    <tr>\n      <th>4</th>\n      <td>0</td>\n      <td>../input/cassava-disease/train/train-cbb-381.jpg</td>\n    </tr>\n  </tbody>\n</table>\n</div>"
     },
     "metadata": {},
     "execution_count": 52
    }
   ],
   "source": [
    "d = {'label': labels, 'path': paths}\n",
    "df = pd.DataFrame(data=d)\n",
    "\n",
    "df.sample(frac=1).reset_index(drop=True, inplace=True)\n",
    "df.head()"
   ]
  },
  {
   "cell_type": "code",
   "execution_count": null,
   "metadata": {},
   "outputs": [],
   "source": []
  },
  {
   "cell_type": "code",
   "execution_count": 53,
   "metadata": {},
   "outputs": [],
   "source": [
    "PATH = '../input/cassava-leaf-disease-classification'"
   ]
  },
  {
   "cell_type": "code",
   "execution_count": 54,
   "metadata": {},
   "outputs": [
    {
     "output_type": "stream",
     "name": "stdout",
     "text": [
      "Index(['image_id', 'label', 'path'], dtype='object')\n"
     ]
    },
    {
     "output_type": "execute_result",
     "data": {
      "text/plain": [
       "   label                                               path\n",
       "0      3  ../input/cassava-leaf-disease-classification/'...\n",
       "1      3  ../input/cassava-leaf-disease-classification/'...\n",
       "2      4  ../input/cassava-leaf-disease-classification/'...\n",
       "3      0  ../input/cassava-leaf-disease-classification/'...\n",
       "4      0  ../input/cassava-leaf-disease-classification/'..."
      ],
      "text/html": "<div>\n<style scoped>\n    .dataframe tbody tr th:only-of-type {\n        vertical-align: middle;\n    }\n\n    .dataframe tbody tr th {\n        vertical-align: top;\n    }\n\n    .dataframe thead th {\n        text-align: right;\n    }\n</style>\n<table border=\"1\" class=\"dataframe\">\n  <thead>\n    <tr style=\"text-align: right;\">\n      <th></th>\n      <th>label</th>\n      <th>path</th>\n    </tr>\n  </thead>\n  <tbody>\n    <tr>\n      <th>0</th>\n      <td>3</td>\n      <td>../input/cassava-leaf-disease-classification/'...</td>\n    </tr>\n    <tr>\n      <th>1</th>\n      <td>3</td>\n      <td>../input/cassava-leaf-disease-classification/'...</td>\n    </tr>\n    <tr>\n      <th>2</th>\n      <td>4</td>\n      <td>../input/cassava-leaf-disease-classification/'...</td>\n    </tr>\n    <tr>\n      <th>3</th>\n      <td>0</td>\n      <td>../input/cassava-leaf-disease-classification/'...</td>\n    </tr>\n    <tr>\n      <th>4</th>\n      <td>0</td>\n      <td>../input/cassava-leaf-disease-classification/'...</td>\n    </tr>\n  </tbody>\n</table>\n</div>"
     },
     "metadata": {},
     "execution_count": 54
    }
   ],
   "source": [
    "train_csv = pd.read_csv(f\"{PATH}/train.csv\")\n",
    "        # adding a column for image location\n",
    "train_csv['path'] = train_csv['image_id'].map(\n",
    "            lambda x: f\"{PATH}/'train_images/{x}\")\n",
    "        # shuffling and reset index\n",
    "print(train_csv.columns)\n",
    "train_csv.drop('image_id', axis=1,inplace=True)\n",
    "train_csv = train_csv.sample(frac=1).reset_index(drop=True)\n",
    "train_csv.head()"
   ]
  },
  {
   "cell_type": "code",
   "execution_count": 57,
   "metadata": {},
   "outputs": [
    {
     "output_type": "stream",
     "name": "stdout",
     "text": [
      "(5656, 2)\n(21397, 2)\n(27053, 2)\n"
     ]
    }
   ],
   "source": [
    "df2 = df.append(other=train_csv, ignore_index=True, verify_integrity=True)\n",
    "print(df.shape)\n",
    "print(train_csv.shape)\n",
    "print(df2.shape)"
   ]
  },
  {
   "cell_type": "code",
   "execution_count": null,
   "metadata": {},
   "outputs": [],
   "source": []
  }
 ]
}